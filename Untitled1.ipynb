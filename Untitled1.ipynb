{
 "cells": [
  {
   "cell_type": "code",
   "execution_count": 1,
   "id": "46a336fc",
   "metadata": {},
   "outputs": [],
   "source": [
    "fahrenheit_val = 99\n",
    "celsius_val = ((fahrenheit_val - 32) * (5/9))"
   ]
  },
  {
   "cell_type": "code",
   "execution_count": 2,
   "id": "de960308",
   "metadata": {},
   "outputs": [
    {
     "name": "stdout",
     "output_type": "stream",
     "text": [
      "37.22222222222222\n"
     ]
    }
   ],
   "source": [
    "print(celsius_val)"
   ]
  },
  {
   "cell_type": "code",
   "execution_count": 3,
   "id": "b77076c7",
   "metadata": {},
   "outputs": [],
   "source": [
    "fahrenheit_val2 = 32\n",
    "celsius_val2 = ((fahrenheit_val2 - 32) * (5/9))"
   ]
  },
  {
   "cell_type": "code",
   "execution_count": 4,
   "id": "97752583",
   "metadata": {},
   "outputs": [
    {
     "name": "stdout",
     "output_type": "stream",
     "text": [
      "0.0\n"
     ]
    }
   ],
   "source": [
    "print(celsius_val2)"
   ]
  },
  {
   "cell_type": "code",
   "execution_count": 5,
   "id": "0cd312a0",
   "metadata": {},
   "outputs": [],
   "source": [
    "def explicit_fahr_to_celsius(temp):\n",
    "    # Assign the converted value to a variable\n",
    "    converted = ((temp - 32) * (5/9))\n",
    "    # Retuirn the value of the new variable\n",
    "    return converted"
   ]
  },
  {
   "cell_type": "code",
   "execution_count": 6,
   "id": "b9306c11",
   "metadata": {},
   "outputs": [
    {
     "data": {
      "text/plain": [
       "0.0"
      ]
     },
     "execution_count": 6,
     "metadata": {},
     "output_type": "execute_result"
    }
   ],
   "source": [
    "explicit_fahr_to_celsius(32)"
   ]
  },
  {
   "cell_type": "code",
   "execution_count": 7,
   "id": "b298e5a2",
   "metadata": {},
   "outputs": [
    {
     "data": {
      "text/plain": [
       "37.22222222222222"
      ]
     },
     "execution_count": 7,
     "metadata": {},
     "output_type": "execute_result"
    }
   ],
   "source": [
    "explicit_fahr_to_celsius(99)"
   ]
  },
  {
   "cell_type": "code",
   "execution_count": 8,
   "id": "78ad5f45",
   "metadata": {},
   "outputs": [],
   "source": [
    "def fahr_to_celsius(temp):\n",
    "    return ((temp - 32) * (5/9))"
   ]
  },
  {
   "cell_type": "code",
   "execution_count": 9,
   "id": "df8a3f22",
   "metadata": {},
   "outputs": [
    {
     "data": {
      "text/plain": [
       "0.0"
      ]
     },
     "execution_count": 9,
     "metadata": {},
     "output_type": "execute_result"
    }
   ],
   "source": [
    "fahr_to_celsius(32)"
   ]
  },
  {
   "cell_type": "code",
   "execution_count": 10,
   "id": "e369888b",
   "metadata": {},
   "outputs": [],
   "source": [
    "celsius_value = fahr_to_celsius(32)"
   ]
  },
  {
   "cell_type": "code",
   "execution_count": 11,
   "id": "8f23e02d",
   "metadata": {},
   "outputs": [
    {
     "name": "stdout",
     "output_type": "stream",
     "text": [
      "0.0\n"
     ]
    }
   ],
   "source": [
    "print(celsius_value)"
   ]
  },
  {
   "cell_type": "code",
   "execution_count": 12,
   "id": "5fba9135",
   "metadata": {},
   "outputs": [
    {
     "name": "stdout",
     "output_type": "stream",
     "text": [
      "Freezing point of water: 0.0 C\n",
      "Freezing point of water 0.0 C\n"
     ]
    }
   ],
   "source": [
    "print(\"Freezing point of water:\", fahr_to_celsius(32), \"C\")\n",
    "print(f\"Freezing point of water {fahr_to_celsius(32)} C\")"
   ]
  },
  {
   "cell_type": "code",
   "execution_count": 38,
   "id": "fc863fbb",
   "metadata": {},
   "outputs": [],
   "source": [
    "def celsius_to_kelvin(temp_c, printoutput=True):\n",
    "    \"\"\" take a temperature in celsius \n",
    "    and return kelvin\n",
    "    \n",
    "    :param temp_c: Temperature value in Celsius\n",
    "    :returns: Temperature value in Kelvin\n",
    "    \n",
    "    Example\n",
    "    ------\n",
    "    >>> celsius_to_kelvin(100)\n",
    "    373.15\n",
    "    \"\"\"\n",
    "    temp_k = temp_c + 273.15\n",
    "    \n",
    "    if printoutput:\n",
    "        print(temp_k)\n",
    "        \n",
    "    return temp_k"
   ]
  },
  {
   "cell_type": "code",
   "execution_count": 29,
   "id": "9998cbc2",
   "metadata": {
    "scrolled": true
   },
   "outputs": [
    {
     "name": "stdout",
     "output_type": "stream",
     "text": [
      "Help on function celsius_to_kelvin in module __main__:\n",
      "\n",
      "celsius_to_kelvin(temp_c)\n",
      "    take a temperature in celsius \n",
      "    and return kelvin\n",
      "    \n",
      "    :param temp_c: Temperature value in Celsius\n",
      "    :returns: Temperature value in Kelvin\n",
      "    \n",
      "    Example\n",
      "    ------\n",
      "    >>> celsius_to_kelvin(100)\n",
      "    373.15\n",
      "\n"
     ]
    }
   ],
   "source": [
    "help(celsius_to_kelvin)"
   ]
  },
  {
   "cell_type": "code",
   "execution_count": 43,
   "id": "7ed5559b",
   "metadata": {},
   "outputs": [
    {
     "ename": "SyntaxError",
     "evalue": "positional argument follows keyword argument (1952658481.py, line 1)",
     "output_type": "error",
     "traceback": [
      "\u001b[0;36m  Cell \u001b[0;32mIn[43], line 1\u001b[0;36m\u001b[0m\n\u001b[0;31m    output = celsius_to_kelvin(temp_c=50, False)\u001b[0m\n\u001b[0m                                          ^\u001b[0m\n\u001b[0;31mSyntaxError\u001b[0m\u001b[0;31m:\u001b[0m positional argument follows keyword argument\n"
     ]
    }
   ],
   "source": [
    "output = celsius_to_kelvin(temp_c=50, False)"
   ]
  },
  {
   "cell_type": "code",
   "execution_count": 15,
   "id": "35f04368",
   "metadata": {},
   "outputs": [
    {
     "data": {
      "text/plain": [
       "283.15"
      ]
     },
     "execution_count": 15,
     "metadata": {},
     "output_type": "execute_result"
    }
   ],
   "source": [
    "celsius_to_kelvin(10)"
   ]
  },
  {
   "cell_type": "code",
   "execution_count": 16,
   "id": "fa2fb01e",
   "metadata": {},
   "outputs": [],
   "source": [
    "def fahr_to_kelvin(temp_f):\n",
    "    temp_c = fahr_to_celsius(temp_f)\n",
    "    temp_k = celsius_to_kelvin(temp_c)\n",
    "    return temp_k"
   ]
  },
  {
   "cell_type": "code",
   "execution_count": 18,
   "id": "e52d306d",
   "metadata": {},
   "outputs": [
    {
     "name": "stdout",
     "output_type": "stream",
     "text": [
      "Boiing point of water in Kelvin is 373.15\n"
     ]
    }
   ],
   "source": [
    "print(f\"Boiing point of water in Kelvin is {fahr_to_kelvin(212)}\")"
   ]
  },
  {
   "cell_type": "code",
   "execution_count": 19,
   "id": "6e169dce",
   "metadata": {},
   "outputs": [
    {
     "ename": "NameError",
     "evalue": "name 'temp_c' is not defined",
     "output_type": "error",
     "traceback": [
      "\u001b[0;31m---------------------------------------------------------------------------\u001b[0m",
      "\u001b[0;31mNameError\u001b[0m                                 Traceback (most recent call last)",
      "Cell \u001b[0;32mIn[19], line 1\u001b[0m\n\u001b[0;32m----> 1\u001b[0m \u001b[38;5;28mprint\u001b[39m(\u001b[43mtemp_c\u001b[49m)\n",
      "\u001b[0;31mNameError\u001b[0m: name 'temp_c' is not defined"
     ]
    }
   ],
   "source": [
    "tempprint(temp_c)"
   ]
  },
  {
   "cell_type": "code",
   "execution_count": 21,
   "id": "a12adeca",
   "metadata": {},
   "outputs": [
    {
     "name": "stdout",
     "output_type": "stream",
     "text": [
      "373.15\n"
     ]
    }
   ],
   "source": [
    "temp_fahr = 212\n",
    "temp_kelvin = fahr_to_kelvin(temp_fahr)\n",
    "print(temp_kelvin)"
   ]
  },
  {
   "cell_type": "code",
   "execution_count": 22,
   "id": "ae26cc33",
   "metadata": {},
   "outputs": [],
   "source": [
    "def print_temperatures():\n",
    "    print(f\"temp in Fahrenheit was {temp_fahr}\")\n",
    "    print(f\"temp in kelvin was {temp_kelvin}\")"
   ]
  },
  {
   "cell_type": "code",
   "execution_count": 23,
   "id": "bc2adbe5",
   "metadata": {},
   "outputs": [
    {
     "name": "stdout",
     "output_type": "stream",
     "text": [
      "temp in Fahrenheit was 212\n",
      "temp in kelvin was 373.15\n"
     ]
    }
   ],
   "source": [
    "print_temperatures()"
   ]
  },
  {
   "cell_type": "code",
   "execution_count": 30,
   "id": "93c7b771",
   "metadata": {},
   "outputs": [],
   "source": [
    "import numpy as np"
   ]
  },
  {
   "cell_type": "code",
   "execution_count": 34,
   "id": "e2facb90",
   "metadata": {},
   "outputs": [
    {
     "ename": "SyntaxError",
     "evalue": "unexpected EOF while parsing (<unknown>, line 1)",
     "output_type": "error",
     "traceback": [
      "Traceback \u001b[0;36m(most recent call last)\u001b[0m:\n",
      "\u001b[0m  File \u001b[1;32m/opt/anaconda3/lib/python3.8/site-packages/IPython/core/interactiveshell.py:3505\u001b[0m in \u001b[1;35mrun_code\u001b[0m\n    exec(code_obj, self.user_global_ns, self.user_ns)\u001b[0m\n",
      "\u001b[0m  Cell \u001b[1;32mIn[34], line 1\u001b[0m\n    np.loadtxt(\"/Users/cwood34/repos/python-novice-esces/data/wavesmonthly.csv\", \",\", skiprows=1)\u001b[0m\n",
      "\u001b[0m  File \u001b[1;32m/opt/anaconda3/lib/python3.8/site-packages/numpy/lib/npyio.py:1338\u001b[0m in \u001b[1;35mloadtxt\u001b[0m\n    arr = _read(fname, dtype=dtype, comment=comment, delimiter=delimiter,\u001b[0m\n",
      "\u001b[0m  File \u001b[1;32m/opt/anaconda3/lib/python3.8/site-packages/numpy/lib/npyio.py:900\u001b[0m in \u001b[1;35m_read\u001b[0m\n    dtype = np.dtype(dtype)\u001b[0m\n",
      "\u001b[0m  File \u001b[1;32m/opt/anaconda3/lib/python3.8/site-packages/numpy/core/_internal.py:200\u001b[0m in \u001b[1;35m_commastring\u001b[0m\n    newitem = (dtype, ast.literal_eval(repeats))\u001b[0m\n",
      "\u001b[0m  File \u001b[1;32m/opt/anaconda3/lib/python3.8/ast.py:59\u001b[0m in \u001b[1;35mliteral_eval\u001b[0m\n    node_or_string = parse(node_or_string, mode='eval')\u001b[0m\n",
      "\u001b[0;36m  File \u001b[0;32m/opt/anaconda3/lib/python3.8/ast.py:47\u001b[0;36m in \u001b[0;35mparse\u001b[0;36m\n\u001b[0;31m    return compile(source, filename, mode, flags,\u001b[0;36m\n",
      "\u001b[0;36m  File \u001b[0;32m<unknown>:1\u001b[0;36m\u001b[0m\n\u001b[0;31m    ,\u001b[0m\n\u001b[0m    ^\u001b[0m\n\u001b[0;31mSyntaxError\u001b[0m\u001b[0;31m:\u001b[0m unexpected EOF while parsing\n"
     ]
    }
   ],
   "source": [
    "np.loadtxt(\"/Users/cwood34/repos/python-novice-esces/data/wavesmonthly.csv\", \",\", skiprows=1)"
   ]
  },
  {
   "cell_type": "code",
   "execution_count": 44,
   "id": "de2888e1",
   "metadata": {},
   "outputs": [],
   "source": [
    "def favourite_ice_cream():\n",
    "    icecreams = [\"chocolate\", \"vanilla\", \"strawberry\"]\n",
    "    print(icecreams[3])"
   ]
  },
  {
   "cell_type": "code",
   "execution_count": 45,
   "id": "4e940249",
   "metadata": {},
   "outputs": [
    {
     "ename": "IndexError",
     "evalue": "list index out of range",
     "output_type": "error",
     "traceback": [
      "\u001b[0;31m---------------------------------------------------------------------------\u001b[0m",
      "\u001b[0;31mIndexError\u001b[0m                                Traceback (most recent call last)",
      "Cell \u001b[0;32mIn[45], line 1\u001b[0m\n\u001b[0;32m----> 1\u001b[0m \u001b[43mfavourite_ice_cream\u001b[49m\u001b[43m(\u001b[49m\u001b[43m)\u001b[49m\n",
      "Cell \u001b[0;32mIn[44], line 3\u001b[0m, in \u001b[0;36mfavourite_ice_cream\u001b[0;34m()\u001b[0m\n\u001b[1;32m      1\u001b[0m \u001b[38;5;28;01mdef\u001b[39;00m \u001b[38;5;21mfavourite_ice_cream\u001b[39m():\n\u001b[1;32m      2\u001b[0m     icecreams \u001b[38;5;241m=\u001b[39m [\u001b[38;5;124m\"\u001b[39m\u001b[38;5;124mchocolate\u001b[39m\u001b[38;5;124m\"\u001b[39m, \u001b[38;5;124m\"\u001b[39m\u001b[38;5;124mvanilla\u001b[39m\u001b[38;5;124m\"\u001b[39m, \u001b[38;5;124m\"\u001b[39m\u001b[38;5;124mstrawberry\u001b[39m\u001b[38;5;124m\"\u001b[39m]\n\u001b[0;32m----> 3\u001b[0m     \u001b[38;5;28mprint\u001b[39m(\u001b[43micecreams\u001b[49m\u001b[43m[\u001b[49m\u001b[38;5;241;43m3\u001b[39;49m\u001b[43m]\u001b[49m)\n",
      "\u001b[0;31mIndexError\u001b[0m: list index out of range"
     ]
    }
   ],
   "source": [
    "favourite_ice_cream()"
   ]
  },
  {
   "cell_type": "markdown",
   "id": "dabfd543",
   "metadata": {},
   "source": [
    "def some_function():\n",
    "    msg = \"Hello world\"\n",
    "    print(msg)\n",
    "     return msg"
   ]
  },
  {
   "cell_type": "code",
   "execution_count": 48,
   "id": "96392862",
   "metadata": {},
   "outputs": [
    {
     "ename": "NameError",
     "evalue": "name 'a' is not defined",
     "output_type": "error",
     "traceback": [
      "\u001b[0;31m---------------------------------------------------------------------------\u001b[0m",
      "\u001b[0;31mNameError\u001b[0m                                 Traceback (most recent call last)",
      "Cell \u001b[0;32mIn[48], line 1\u001b[0m\n\u001b[0;32m----> 1\u001b[0m \u001b[38;5;28mprint\u001b[39m(\u001b[43ma\u001b[49m)\n",
      "\u001b[0;31mNameError\u001b[0m: name 'a' is not defined"
     ]
    }
   ],
   "source": [
    "print(a)"
   ]
  },
  {
   "cell_type": "code",
   "execution_count": 49,
   "id": "edc95459",
   "metadata": {},
   "outputs": [
    {
     "name": "stdout",
     "output_type": "stream",
     "text": [
      "0\n",
      "1\n",
      "2\n",
      "3\n",
      "4\n",
      "5\n",
      "6\n",
      "7\n",
      "8\n",
      "9\n",
      "9\n"
     ]
    }
   ],
   "source": [
    "for i in range(10):\n",
    "    number = i\n",
    "    print(number)\n",
    "    \n",
    "print(number)"
   ]
  },
  {
   "cell_type": "code",
   "execution_count": 50,
   "id": "414b1983",
   "metadata": {},
   "outputs": [],
   "source": [
    "def factorial(n):\n",
    "    if n < 0:\n",
    "        raise ValueError(\"Only use non-negative integers\")\n",
    "        \n",
    "    factorial = 1\n",
    "    for i in range(1, n+1):\n",
    "        factorial = factorial * i\n",
    "        \n",
    "    return factorial"
   ]
  },
  {
   "cell_type": "code",
   "execution_count": 51,
   "id": "f14189c0",
   "metadata": {},
   "outputs": [],
   "source": [
    "def factorial(n):\n",
    "    if n < 0:\n",
    "        raise ValueError(\"Only use non-negative ints\")\n",
    "    \n",
    "    if n==0 or n==1:\n",
    "        return 1\n",
    "    else:\n",
    "        return n * factorial(n-1)"
   ]
  },
  {
   "cell_type": "code",
   "execution_count": 52,
   "id": "67574445",
   "metadata": {},
   "outputs": [
    {
     "name": "stdout",
     "output_type": "stream",
     "text": [
      "4\n",
      "4\n",
      "3\n"
     ]
    }
   ],
   "source": [
    "names = [\"Mary\", \"Isla\", \"Sam\"]\n",
    "\n",
    "for name in names:\n",
    "    print(len(name))"
   ]
  },
  {
   "cell_type": "code",
   "execution_count": 53,
   "id": "dbeff401",
   "metadata": {},
   "outputs": [],
   "source": [
    "name_lengths = map(len, names)"
   ]
  },
  {
   "cell_type": "code",
   "execution_count": 55,
   "id": "cf85ff47",
   "metadata": {},
   "outputs": [
    {
     "name": "stdout",
     "output_type": "stream",
     "text": [
      "[4, 4, 3]\n"
     ]
    }
   ],
   "source": [
    "print(list(name_lengths))"
   ]
  },
  {
   "cell_type": "code",
   "execution_count": 56,
   "id": "dbf1dec4",
   "metadata": {},
   "outputs": [
    {
     "name": "stdout",
     "output_type": "stream",
     "text": [
      "<map object at 0x7fe68d669400>\n"
     ]
    }
   ],
   "source": [
    "print(name_lengths)"
   ]
  },
  {
   "cell_type": "code",
   "execution_count": 57,
   "id": "c3961bb3",
   "metadata": {},
   "outputs": [
    {
     "name": "stdout",
     "output_type": "stream",
     "text": [
      "[0, 1, 4, 9, 16]\n"
     ]
    }
   ],
   "source": [
    "numbers = [0,1,2,3,4]\n",
    "sqaures = map(lambda x: x*x, numbers)\n",
    "print(list(sqaures))"
   ]
  },
  {
   "cell_type": "code",
   "execution_count": 58,
   "id": "8f062c88",
   "metadata": {},
   "outputs": [
    {
     "name": "stdout",
     "output_type": "stream",
     "text": [
      "[1, 2, 3, 4, 5]\n"
     ]
    }
   ],
   "source": [
    "def add_one(x):\n",
    "    return x+1\n",
    "\n",
    "output = map(add_one, numbers)\n",
    "print(list(output))"
   ]
  },
  {
   "cell_type": "code",
   "execution_count": 60,
   "id": "74bb7ede",
   "metadata": {},
   "outputs": [
    {
     "name": "stdout",
     "output_type": "stream",
     "text": [
      "[0, 2, 4, 6, 8]\n"
     ]
    }
   ],
   "source": [
    "integers = range(5)\n",
    "\n",
    "double_ints = [2 * ugg for ugg in integers]\n",
    "\n",
    "print(double_ints)"
   ]
  },
  {
   "cell_type": "code",
   "execution_count": null,
   "id": "f07dd5aa",
   "metadata": {},
   "outputs": [],
   "source": []
  }
 ],
 "metadata": {
  "kernelspec": {
   "display_name": "Python 3 (ipykernel)",
   "language": "python",
   "name": "python3"
  },
  "language_info": {
   "codemirror_mode": {
    "name": "ipython",
    "version": 3
   },
   "file_extension": ".py",
   "mimetype": "text/x-python",
   "name": "python",
   "nbconvert_exporter": "python",
   "pygments_lexer": "ipython3",
   "version": "3.8.16"
  }
 },
 "nbformat": 4,
 "nbformat_minor": 5
}
